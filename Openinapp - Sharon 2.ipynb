{
 "cells": [
  {
   "cell_type": "code",
   "execution_count": null,
   "id": "bbe4bff0",
   "metadata": {},
   "outputs": [
    {
     "name": "stdout",
     "output_type": "stream",
     "text": [
      "Crawling: http://openinapp.co\n",
      "Crawling: https://www.youtube.com/c/OpeninApp\n",
      "Crawling: https://www.youtube.com/about/\n",
      "Crawling: https://www.youtube.com/about/press/\n",
      "Crawling: https://www.youtube.com/about/copyright/\n",
      "Crawling: https://www.youtube.com/creators/\n",
      "Crawling: https://www.youtube.com/ads/\n",
      "Crawling: https://www.youtube.com/about/policies/\n",
      "Crawling: https://www.youtube.com/howyoutubeworks?utm_campaign=ytgen&utm_source=ythp&utm_medium=LeftNav&utm_content=txt&u=https%3A%2F%2Fwww.youtube.com%2Fhowyoutubeworks%3Futm_source%3Dythp%26utm_medium%3DLeftNav%26utm_campaign%3Dytgen\n",
      "Crawling: https://www.youtube.com/howyoutubeworks/\n",
      "Crawling: https://www.youtube.com/trends/\n",
      "Crawling: https://www.youtube.com/jobs/\n",
      "Crawling: https://www.youtube.com/kids/\n",
      "Crawling: https://www.youtube.com/musicpremium\n",
      "Crawling: https://www.youtube.com/channel/UCqVDpXKLmKeBU_yyt_QkItQ\n",
      "Crawling: https://www.youtube.com/premium/\n",
      "Crawling: https://www.youtube.com/ads/youtube-select/\n",
      "Crawling: https://www.youtube.com/yt/family/\n",
      "Crawling: https://www.youtube.com/creatorresearch/\n",
      "Crawling: https://www.youtube.com/nextup/\n",
      "Crawling: https://www.youtube.com/creators-for-change/\n",
      "Crawling: https://www.youtube.com/csai-match/\n",
      "Crawling: https://www.youtube.com/about/brand-resources/\n",
      "Crawling: https://www.youtube.com/t/terms\n",
      "Crawling: https://www.youtube.com/user/YouTube\n",
      "Crawling: https://www.youtube.com/user/creatoracademy\n",
      "Crawling: https://www.youtube.com/channel/UCGg-UqjRgzhYDPJMr-9HXCg\n",
      "Crawling: https://www.youtube.com/user/YouTubeHelp\n"
     ]
    }
   ],
   "source": [
    "import csv\n",
    "import requests\n",
    "from bs4 import BeautifulSoup\n",
    "\n",
    "def crawl(url, depth=3):\n",
    "    visited = set()\n",
    "    queue = [(url, 0)]\n",
    "    data = []\n",
    "\n",
    "    filename = \"output.csv\"\n",
    "    headers = [\"Source URL\", \"YouTube URL\"]\n",
    "\n",
    "    # Create the CSV file and write the headers\n",
    "    with open(filename, \"w\", newline=\"\") as file:\n",
    "        writer = csv.writer(file)\n",
    "        writer.writerow(headers)\n",
    "\n",
    "    while queue:\n",
    "        current_url, current_depth = queue.pop(0)\n",
    "\n",
    "        if current_depth > depth:\n",
    "            break\n",
    "\n",
    "        if current_url in visited:\n",
    "            continue\n",
    "\n",
    "        print(f\"Crawling: {current_url}\")\n",
    "\n",
    "        try:\n",
    "            response = requests.get(current_url)\n",
    "            visited.add(current_url)\n",
    "\n",
    "            soup = BeautifulSoup(response.content, \"html.parser\")\n",
    "\n",
    "            # Processing of the pages and extracting the links from the pages\n",
    "            links = soup.find_all(\"a\")\n",
    "            for link in links:\n",
    "                href = link.get(\"href\")\n",
    "                if href and href.startswith(\"https://www.youtube.com/\"):\n",
    "                    queue.append((href, current_depth + 1))\n",
    "                    data.append((current_url, href))\n",
    "                    # Update the CSV file with the new data\n",
    "                    with open(filename, \"a\", newline=\"\") as file:\n",
    "                        writer = csv.writer(file)\n",
    "                        writer.writerow((current_url, href))\n",
    "\n",
    "        except Exception as e:\n",
    "            print(f\"Error crawling {current_url}: {e}\")\n",
    "\n",
    "# Example\n",
    "crawl(\"http://openinapp.co\", depth=16)"
   ]
  },
  {
   "cell_type": "code",
   "execution_count": null,
   "id": "91629bb9",
   "metadata": {},
   "outputs": [],
   "source": []
  }
 ],
 "metadata": {
  "kernelspec": {
   "display_name": "Python 3 (ipykernel)",
   "language": "python",
   "name": "python3"
  },
  "language_info": {
   "codemirror_mode": {
    "name": "ipython",
    "version": 3
   },
   "file_extension": ".py",
   "mimetype": "text/x-python",
   "name": "python",
   "nbconvert_exporter": "python",
   "pygments_lexer": "ipython3",
   "version": "3.9.7"
  }
 },
 "nbformat": 4,
 "nbformat_minor": 5
}
